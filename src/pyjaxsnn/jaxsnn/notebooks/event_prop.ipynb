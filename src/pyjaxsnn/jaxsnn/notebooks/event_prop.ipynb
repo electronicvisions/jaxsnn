{
 "cells": [
  {
   "attachments": {},
   "cell_type": "markdown",
   "metadata": {},
   "source": [
    "Let's explore the gradients of the EventProp algorithm in jax on a single LIF Neuron with one spike."
   ]
  },
  {
   "cell_type": "code",
   "execution_count": 1,
   "metadata": {},
   "outputs": [],
   "source": [
    "from jaxsnn.event.leaky_integrate_and_fire import LIFParameters, LIFState, StepState\n",
    "from jaxsnn.base.types import InputQueue\n",
    "from jaxsnn.event.root import ttfs_solver\n",
    "import jax.numpy as np\n",
    "import jax\n",
    "import matplotlib.pyplot as plt\n",
    "from jaxsnn.base.types import EventPropSpike, Spike, Weight, WeightRecurrent, WeightInput\n",
    "from functools import partial\n",
    "from jaxsnn.event.loss import first_spike\n",
    "from jax.config import config\n",
    "from jax import lax\n",
    "from jaxsnn.event import custom_lax\n",
    "\n",
    "config.update(\"jax_debug_nans\", True)\n",
    "\n",
    "p = LIFParameters()\n",
    "\n",
    "single_solver = partial(ttfs_solver, p.tau_mem, p.v_th)\n",
    "\n",
    "def lif_flow(x0, t: float):\n",
    "    return np.dot(jax.scipy.linalg.expm(p.dynamics * t), x0)\n",
    "\n",
    "\n",
    "def wrapped_dynamics(neuron_state: LIFState, t: float):\n",
    "    x0 = np.array([neuron_state.V, neuron_state.I])\n",
    "    x1 = lif_flow(x0, t)\n",
    "    return LIFState(V=x1[0], I=x1[1])"
   ]
  },
  {
   "attachments": {},
   "cell_type": "markdown",
   "metadata": {},
   "source": [
    "First, we check the gradient for a single input spike at time t = 0.0 with a current of magnitude $w_{ij}$"
   ]
  },
  {
   "cell_type": "code",
   "execution_count": 2,
   "metadata": {},
   "outputs": [
    {
     "data": {
      "text/plain": [
       "DeviceArray(-0.00206011, dtype=float32, weak_type=True)"
      ]
     },
     "execution_count": 2,
     "metadata": {},
     "output_type": "execute_result"
    }
   ],
   "source": [
    "def ttfs(w_ij):\n",
    "    x0 = np.array([0.0, w_ij])\n",
    "    return single_solver(LIFState(V=x0[0], I=x0[1]), dt=1.0)\n",
    "\n",
    "jax.grad(ttfs)(3.0)"
   ]
  },
  {
   "attachments": {},
   "cell_type": "markdown",
   "metadata": {},
   "source": [
    "Next, we define the dynamics for the adjoint variables"
   ]
  },
  {
   "cell_type": "code",
   "execution_count": 3,
   "metadata": {},
   "outputs": [],
   "source": [
    "def free_adjoint_dynamics(lambda_0, t):\n",
    "    A = np.array([[-p.tau_mem_inv, 0.0], [p.tau_syn_inv, -p.tau_syn_inv]])\n",
    "    return np.dot(jax.scipy.linalg.expm(A * t), lambda_0)   \n",
    "\n",
    "\n",
    "def lif_adjoint_dynamics(lambda_0, t):\n",
    "    tau_exp = np.exp(-t / p.tau_mem)\n",
    "    syn_exp = np.exp(-t / p.tau_syn)\n",
    "    A = np.array([[tau_exp, 0], [p.tau_mem / (p.tau_mem - p.tau_syn) * (tau_exp - syn_exp), tau_exp]])\n",
    "    return np.dot(A, lambda_0)\n",
    "\n",
    "\n",
    "def wrapped_adjoint_dynamics(neuron_state: LIFState, t: float):\n",
    "    x0 = np.array([neuron_state.V, neuron_state.I])\n",
    "    x1 = free_adjoint_dynamics(x0, t)\n",
    "    return LIFState(V=x1[0], I=x1[1])"
   ]
  },
  {
   "attachments": {},
   "cell_type": "markdown",
   "metadata": {},
   "source": [
    "Plot the adjoint dynamics backward in time"
   ]
  },
  {
   "cell_type": "code",
   "execution_count": 4,
   "metadata": {},
   "outputs": [
    {
     "data": {
      "image/png": "[encoded data removed]",
      "text/plain": [
       "<Figure size 432x288 with 1 Axes>"
      ]
     },
     "metadata": {
      "needs_background": "light"
     },
     "output_type": "display_data"
    }
   ],
   "source": [
    "lambda_0 = np.array([2.0, 0.0])\n",
    "ts = np.linspace(0, 0.02, 100)\n",
    "\n",
    "lambda_t = jax.vmap(free_adjoint_dynamics, in_axes=(None, 0))(lambda_0, ts)\n",
    "lambda_t2 = jax.vmap(lif_adjoint_dynamics, in_axes=(None, 0))(lambda_0, ts)\n",
    "\n",
    "# dynamic is backward in time\n",
    "lambda_t = lambda_t[::-1]\n",
    "lambda_t2 = lambda_t2[::-1]\n",
    "\n",
    "plt.plot(ts, lambda_t[:, 0], label=r\"$\\lambda_V$\")\n",
    "plt.plot(ts, lambda_t2[:, 0], label=r\"$\\lambda_V$\")\n",
    "\n",
    "plt.plot(ts, lambda_t[:, 1], label=r\"$\\lambda_I$\")\n",
    "plt.plot(ts, lambda_t2[:, 1], label=r\"$\\lambda_I$\")\n",
    "plt.legend()\n",
    "plt.show()"
   ]
  },
  {
   "attachments": {},
   "cell_type": "markdown",
   "metadata": {},
   "source": [
    "Let's see if we get the same gradient if we write the EventProp algorithm for a single event."
   ]
  },
  {
   "cell_type": "code",
   "execution_count": 5,
   "metadata": {},
   "outputs": [],
   "source": [
    "t_max = 1.0\n",
    "\n",
    "def ttfs(w_ij):\n",
    "    x0 = np.array([0.0, w_ij])\n",
    "    t_spike = single_solver(LIFState(V=x0[0], I=x0[1]), dt=t_max)\n",
    "    return t_spike\n",
    "\n",
    "def f_fwd(w_ij):\n",
    "    t_spike = ttfs(w_ij)\n",
    "\n",
    "    x0 = np.array([0.0, w_ij])\n",
    "    x1 = lif_flow(x0, t_spike)\n",
    "    return t_spike, (w_ij, x1[1], t_spike)\n",
    "\n",
    "\n",
    "def f_bwd(res, g):\n",
    "    w_ij, current, t_spike = res\n",
    "    lambda_V, lambda_I = 0.0, 0.0\n",
    "\n",
    "    if t_spike == t_max:\n",
    "        return (0.0,)\n",
    "\n",
    "    # bump the adjoint variables at the time of spike\n",
    "    lambda_V = lambda_V + 1 / (current - p.v_th) * g\n",
    "\n",
    "    # integrate lambdas to input event\n",
    "    adjoint_state = free_adjoint_dynamics(np.array([lambda_V, lambda_I]), t_spike)\n",
    "    lambda_I = adjoint_state[1]\n",
    "\n",
    "    # propagate information backwards at the time of the input spike\n",
    "    return (-p.tau_syn * lambda_I, )\n",
    "\n",
    "\n",
    "ttfs_eventprop = jax.custom_vjp(ttfs)\n",
    "ttfs_eventprop.defvjp(f_fwd, f_bwd)"
   ]
  },
  {
   "cell_type": "code",
   "execution_count": 6,
   "metadata": {},
   "outputs": [
    {
     "name": "stdout",
     "output_type": "stream",
     "text": [
      "Analytical gradient: Time of spike: 0.003235, grad: -0.002060\n",
      "EventProp gradient: Time of spike: 0.003235, grad: -0.002060\n"
     ]
    }
   ],
   "source": [
    "value, grad = jax.value_and_grad(ttfs)(3.0)\n",
    "print(f\"Analytical gradient: Time of spike: {value:.6f}, grad: {grad:.6f}\")\n",
    "value, grad = jax.value_and_grad(ttfs_eventprop)(3.0)\n",
    "print(f\"EventProp gradient: Time of spike: {value:.6f}, grad: {grad:.6f}\")"
   ]
  },
  {
   "attachments": {},
   "cell_type": "markdown",
   "metadata": {},
   "source": [
    "Let's explore what happens closer to the point where the bump is not defined."
   ]
  },
  {
   "cell_type": "code",
   "execution_count": 7,
   "metadata": {},
   "outputs": [
    {
     "name": "stdout",
     "output_type": "stream",
     "text": [
      "Analytical gradient: Time of spike: 0.003235, grad: -0.002060\n",
      "EventProp gradient: Time of spike: 0.003235, grad: -0.002060\n"
     ]
    }
   ],
   "source": [
    "value, grad = jax.value_and_grad(ttfs)(3.0)\n",
    "print(f\"Analytical gradient: Time of spike: {value:.6f}, grad: {grad:.6f}\")\n",
    "value, grad = jax.value_and_grad(ttfs_eventprop)(3.0)\n",
    "print(f\"EventProp gradient: Time of spike: {value:.6f}, grad: {grad:.6f}\")"
   ]
  },
  {
   "attachments": {},
   "cell_type": "markdown",
   "metadata": {},
   "source": [
    "So for one neuron and one spike, the gradients match up. Let's do it for multiple input neurons and one input spike at t=0"
   ]
  },
  {
   "cell_type": "code",
   "execution_count": 8,
   "metadata": {},
   "outputs": [],
   "source": [
    "def ttfs(params, input_spike: Spike):\n",
    "    x0 = np.array([0.0, params[input_spike.idx]])\n",
    "    t_spike = single_solver(LIFState(V=x0[0], I=x0[1]), dt=t_max)\n",
    "    return t_spike\n",
    "\n",
    "\n",
    "def f_fwd(params, input_spike: Spike):\n",
    "    t_spike = ttfs_eventprop(params, input_spike)\n",
    "\n",
    "    x0 = np.array([0.0, params[input_spike.idx]])\n",
    "    x1 = lif_flow(x0, t_spike)\n",
    "    return t_spike, (params, x1[1], t_spike, input_spike)\n",
    "\n",
    "\n",
    "def f_bwd(res, g):\n",
    "    params, current, t_spike, input_spike = res\n",
    "    lambda_V, lambda_I = 0.0, 0.0\n",
    "\n",
    "    if t_spike == t_max:\n",
    "        return (0.0, )\n",
    "\n",
    "    lambda_V = lambda_V + 1 / (current - p.v_th) * g\n",
    "\n",
    "    # integrate lambdas to next event\n",
    "    adjoint_state = free_adjoint_dynamics(np.array([lambda_V, lambda_I]), t_spike)\n",
    "    lambda_I = adjoint_state[1]\n",
    "\n",
    "    # grad_ji <- grad_ji - \\tau_s lambda_I\n",
    "    # sum over input spikes, but there is only one :)\n",
    "    grad = np.zeros(params.shape[0])\n",
    "    grad = grad.at[input_spike.idx].add(-p.tau_syn * lambda_I)\n",
    "    return grad, input_spike \n",
    "\n",
    "ttfs_eventprop = jax.custom_vjp(ttfs)\n",
    "ttfs_eventprop.defvjp(f_fwd, f_bwd)"
   ]
  },
  {
   "cell_type": "code",
   "execution_count": 9,
   "metadata": {},
   "outputs": [
    {
     "name": "stdout",
     "output_type": "stream",
     "text": [
      "Analytical gradient: Time of spike: 0.003235, grad: [ 0.          0.         -0.00206011  0.        ]\n",
      "EventProp gradient: Time of spike: 0.003235, grad: [ 0.          0.         -0.00206011  0.        ]\n"
     ]
    }
   ],
   "source": [
    "input_spike = Spike(time=np.array(0.0), idx=np.array(2))\n",
    "params = np.full(4, 3.0)\n",
    "value, grad = jax.value_and_grad(ttfs_eventprop)(params, input_spike)\n",
    "print(f\"Analytical gradient: Time of spike: {value:.6f}, grad: {grad}\")\n",
    "value, grad = jax.value_and_grad(ttfs)(params, input_spike)\n",
    "print(f\"EventProp gradient: Time of spike: {value:.6f}, grad: {grad}\")"
   ]
  },
  {
   "attachments": {},
   "cell_type": "markdown",
   "metadata": {},
   "source": [
    "We have checked that the gradients calculated by the EventProp algorith work for one layer with multiple input neurons. We now move on to:\n",
    "\n",
    "* Multiple neurons per layer\n",
    "* Multiple layers\n",
    "\n",
    "In order to propagate information between layers, we need to populate information in the `input_queue` of the `adjoint_state`."
   ]
  },
  {
   "cell_type": "code",
   "execution_count": 10,
   "metadata": {},
   "outputs": [],
   "source": [
    "def adjoint_transition_in_layer_no_recurrency(\n",
    "    p: LIFParameters,\n",
    "    adjoint_state: StepState,\n",
    "    spike: EventPropSpike,\n",
    "    layer_start: int,\n",
    "    adjoint_spike: EventPropSpike,\n",
    "    grads: WeightInput,\n",
    "    params: WeightInput,\n",
    "    input_queue_head: int,\n",
    "):\n",
    "    epsilon = 1e-6\n",
    "    safe_denominator = np.where(\n",
    "        np.abs(spike.current - p.v_th) > epsilon, spike.current - p.v_th, epsilon\n",
    "    )\n",
    "    adjoint_state.neuron_state.V = adjoint_state.neuron_state.V.at[\n",
    "        spike.idx - layer_start\n",
    "    ].add(adjoint_spike.time / safe_denominator)\n",
    "    return adjoint_state, grads\n",
    "\n",
    "\n",
    "def adjoint_input_transition(\n",
    "    p: LIFParameters,\n",
    "    adjoint_state: StepState,\n",
    "    spike: EventPropSpike,\n",
    "    layer_start: int,\n",
    "    adjoint_spike: EventPropSpike,\n",
    "    grads: WeightInput,\n",
    "    params: WeightInput,\n",
    "    input_queue_head: int,\n",
    "):\n",
    "    prev_layer_start = layer_start - params.input.shape[0]\n",
    "    index_for_layer = spike.idx - prev_layer_start\n",
    "\n",
    "    # do nothing if spike is not from directly previous layer\n",
    "    grads, dt = lax.cond(\n",
    "        index_for_layer >= 0,\n",
    "        lambda: (\n",
    "            WeightInput(\n",
    "                grads.input.at[index_for_layer].add(\n",
    "                    -p.tau_syn * adjoint_state.neuron_state.I\n",
    "                ),\n",
    "            ),\n",
    "            np.dot(\n",
    "                params.input[index_for_layer],\n",
    "                (adjoint_state.neuron_state.V - adjoint_state.neuron_state.I),\n",
    "            ),\n",
    "        ),\n",
    "        lambda: (grads, 0.0),\n",
    "    )\n",
    "    adjoint_state.input_queue.spikes.time = adjoint_state.input_queue.spikes.time.at[\n",
    "        input_queue_head - 1\n",
    "    ].set(dt)\n",
    "    adjoint_state.input_queue.head += 1\n",
    "    return adjoint_state, grads\n",
    "\n",
    "\n",
    "def adjoint_transition_no_recurrency(\n",
    "    p: LIFParameters,\n",
    "    adjoint_state: StepState,\n",
    "    spike: EventPropSpike,\n",
    "    layer_start: int,\n",
    "    adjoint_spike: EventPropSpike,\n",
    "    grads: WeightInput,\n",
    "    params: WeightInput,\n",
    "    input_queue_head: int,\n",
    "):\n",
    "    spike_in_layer = spike.idx >= layer_start\n",
    "    return lax.cond(\n",
    "        spike_in_layer,\n",
    "        adjoint_transition_in_layer_no_recurrency,\n",
    "        adjoint_input_transition,\n",
    "        *(\n",
    "            p,\n",
    "            adjoint_state,\n",
    "            spike,\n",
    "            layer_start,\n",
    "            adjoint_spike,\n",
    "            grads,\n",
    "            params,\n",
    "            input_queue_head,\n",
    "        ),\n",
    "    )"
   ]
  },
  {
   "cell_type": "code",
   "execution_count": 11,
   "metadata": {},
   "outputs": [],
   "source": [
    "from jaxsnn.event.leaky_integrate_and_fire import transition_without_recurrence\n",
    "from jaxsnn.event.functional import step\n",
    "\n",
    "\n",
    "tr_dynamics = partial(transition_without_recurrence, p)\n",
    "adjoint_tr_dynamics = partial(adjoint_transition_no_recurrency, p)\n",
    "\n",
    "solver = jax.vmap(single_solver, in_axes=(0, None))\n",
    "dynamics = jax.vmap(wrapped_dynamics, in_axes=(0, None))\n",
    "adjoint_dynamics = jax.vmap(wrapped_adjoint_dynamics, in_axes=(0, None))\n",
    "\n",
    "step_fn = partial(step, dynamics, tr_dynamics, t_max, solver)"
   ]
  },
  {
   "cell_type": "code",
   "execution_count": 12,
   "metadata": {},
   "outputs": [],
   "source": [
    "def step_fn_fwd(input, iteration: int):\n",
    "    ((state, params, layer_start), spike) = step_fn(input, iteration)\n",
    "    return ((state, params, layer_start), spike), (\n",
    "        spike,\n",
    "        params,\n",
    "        layer_start,\n",
    "        state.input_queue.head,\n",
    "    )\n",
    "\n",
    "\n",
    "def step_fn_bwd(res, g):\n",
    "    spike, params, layer_start, input_queue_head = res\n",
    "    (adjoint_state, grads, _), adjoint_spike = g\n",
    "\n",
    "    reversed_time = t_max - spike.time\n",
    "    time_diff = reversed_time - adjoint_state.time\n",
    "\n",
    "    # integrate lambdas to the spike\n",
    "    adjoint_state.neuron_state = adjoint_dynamics(\n",
    "        adjoint_state.neuron_state, time_diff\n",
    "    )\n",
    "    adjoint_state.time = reversed_time\n",
    "\n",
    "    no_event = spike.idx == -1\n",
    "    tr_state, new_grads = lax.cond(\n",
    "        no_event,\n",
    "        lambda *args: (adjoint_state, grads),\n",
    "        adjoint_tr_dynamics,\n",
    "        *(\n",
    "            adjoint_state,\n",
    "            spike,\n",
    "            layer_start,\n",
    "            adjoint_spike,\n",
    "            grads,\n",
    "            params,\n",
    "            input_queue_head,\n",
    "        )\n",
    "    )\n",
    "    return (tr_state, new_grads, layer_start), 1\n",
    "\n",
    "\n",
    "def forward(apply_fn, n_spikes: int, params: Weight, input_spikes: EventPropSpike, layer_start: int) -> EventPropSpike:\n",
    "    n_neurons = params.input.shape[1]\n",
    "    initial_state = LIFState(np.zeros(n_neurons), np.zeros(n_neurons))\n",
    "    s = StepState(\n",
    "        neuron_state=initial_state, time=0.0, input_queue=InputQueue(input_spikes)\n",
    "    )\n",
    "    _, spikes = lax.scan(apply_fn, (s, params, layer_start), np.arange(n_spikes))\n",
    "    return spikes\n",
    "\n",
    "\n",
    "# define custom vjp\n",
    "step_event_prop = jax.custom_vjp(step_fn)\n",
    "step_event_prop.defvjp(step_fn_fwd, step_fn_bwd)"
   ]
  },
  {
   "cell_type": "code",
   "execution_count": 13,
   "metadata": {},
   "outputs": [],
   "source": [
    "from jaxsnn.event.loss import mse_loss\n",
    "\n",
    "\n",
    "def loss(apply_fn, params, batch):\n",
    "    prev_neurons = 0\n",
    "    spikes, target = batch\n",
    "    for layer_params in params:\n",
    "        prev_neurons += layer_params.input.shape[0]\n",
    "        spikes = apply_fn(layer_params, spikes, prev_neurons)\n",
    "\n",
    "    output_neurons = params[-1].input.shape[1]\n",
    "    n_neurons = prev_neurons + output_neurons\n",
    "    output_spikes = first_spike(spikes, n_neurons)[prev_neurons: ]\n",
    "    return mse_loss(output_spikes, target, p.tau_mem), output_spikes"
   ]
  },
  {
   "cell_type": "code",
   "execution_count": 14,
   "metadata": {},
   "outputs": [
    {
     "name": "stdout",
     "output_type": "stream",
     "text": [
      "Analytical gradient: Loss value: 3.107546, grad: \n",
      "[[0.         0.01034393 0.01530054]\n",
      " [0.         0.009994   0.01482641]],\n",
      " [[0.         0.        ]\n",
      " [0.         0.00421839]\n",
      " [0.         0.00771458]]\n",
      "\n",
      "EventProp gradient: Loss value: 3.107546, grad: \n",
      "[[0.         0.01034414 0.01449084]\n",
      " [0.         0.00999416 0.01407043]],\n",
      " [[0.         0.        ]\n",
      " [0.         0.00421822]\n",
      " [0.         0.00771458]]\n",
      "Output spikes: [      inf 0.0028776]\n"
     ]
    }
   ],
   "source": [
    "# define input spikes\n",
    "input =  EventPropSpike(time=np.array([0.0, 1e-4]), idx=np.array([0, 1]), current=np.array([0.0, 0.0]))\n",
    "target = np.array([0.5 * p.tau_syn, 1.0 * p.tau_syn])\n",
    "batch = (input, target)\n",
    "n_spikes = 6\n",
    "\n",
    "# init params\n",
    "params = [WeightInput(np.array([[1.0, 2.0, 3.0], [1.0, 2.0, 3.0]])), WeightInput(np.array([[2.0, 3.0], [2.0, 3.0], [2.0, 3.0]]))]\n",
    "\n",
    "# and run\n",
    "(loss_value, output_spikes), grad = jax.value_and_grad(partial(loss, partial(forward, step_fn, n_spikes)), has_aux=True)(params, batch)\n",
    "print(f\"Analytical gradient: Loss value: {loss_value:.6f}, grad: \\n{grad[0].input},\\n {grad[1].input}\")\n",
    "\n",
    "(loss_value, output_spikes), grad = jax.value_and_grad(partial(loss, partial(forward, step_event_prop, n_spikes)), has_aux=True)(params, batch)\n",
    "print(f\"\\nEventProp gradient: Loss value: {loss_value:.6f}, grad: \\n{grad[0].input},\\n {grad[1].input}\")\n",
    "\n",
    "print(f\"Output spikes: {output_spikes}\")"
   ]
  },
  {
   "attachments": {},
   "cell_type": "markdown",
   "metadata": {},
   "source": [
    "The problem is the gradient's going from the third hidden neuron (total index: 4), which spikes multiple times."
   ]
  },
  {
   "attachments": {},
   "cell_type": "markdown",
   "metadata": {},
   "source": [
    "The other option is to define the `custom_vjp` directly for the entire forward method."
   ]
  },
  {
   "cell_type": "code",
   "execution_count": 15,
   "metadata": {},
   "outputs": [],
   "source": [
    "def step_bwd_wrapper(params: np.ndarray, init: Tuple[StepState, Weight, int], xs: Tuple[EventPropSpike, EventPropSpike]) -> Tuple[Tuple[StepState, Weight, int], int]:\n",
    "    adjoint_state, grads, layer_start = init\n",
    "    spike, adjoint_spike = xs\n",
    "    res = spike, params, layer_start, len(adjoint_state.input_queue.spikes.time) - adjoint_state.input_queue.head\n",
    "    g = (adjoint_state, grads, 0), adjoint_spike\n",
    "    return step_fn_bwd(res, g)\n",
    "\n",
    "\n",
    "def trajectory(params, s: StepState, n_spikes: int, layer_start: int):\n",
    "    adjoint_state, spikes = jax.lax.scan(step_fn, (s, params, layer_start), np.arange(n_spikes))\n",
    "    return adjoint_state, spikes\n",
    "\n",
    "\n",
    "def trajectory_fwd(params: np.ndarray, s: StepState, n_spikes: int, layer_start: int):\n",
    "    # here the hardware call can be injected instead of calling forward\n",
    "    output_state, spikes = trajectory(params, s, n_spikes, layer_start)\n",
    "    return (output_state, spikes), (spikes, output_state)\n",
    "\n",
    "\n",
    "def trajectory_bwd(res: Tuple[EventPropSpike, Tuple[StepState, Weight, int]], g: Tuple[Tuple[StepState, Weight, int], EventPropSpike]):\n",
    "    spikes, (state, params, layer_start) = res\n",
    "    (adjoint_state, grads, _), adjoint_spikes = g\n",
    "    \n",
    "    # because queue is not differentiable\n",
    "    adjoint_state.input_queue.head = len(adjoint_state.input_queue.spikes.time) - state.input_queue.head\n",
    "    (adjoint_state, grads, layer_start), _ = jax.lax.scan(partial(step_bwd_wrapper, params), (adjoint_state, grads, layer_start), (spikes, adjoint_spikes), reverse=True)\n",
    "    return grads, adjoint_state, 0, 0\n",
    "\n",
    "\n",
    "def forward(apply_fn, n_spikes: int, params: Weight, input_spikes: EventPropSpike, layer_start: int) -> EventPropSpike:\n",
    "    n_neurons = params.input.shape[1]\n",
    "    initial_state = LIFState(np.zeros(n_neurons), np.zeros(n_neurons))\n",
    "    s = StepState(\n",
    "        neuron_state=initial_state, time=0.0, input_queue=InputQueue(input_spikes)\n",
    "    )\n",
    "    _, spikes = apply_fn(params, s, n_spikes, layer_start)\n",
    "    return spikes\n",
    "\n",
    "\n",
    "trajectory_event_prop = jax.custom_vjp(trajectory)\n",
    "trajectory_event_prop.defvjp(trajectory_fwd, trajectory_bwd)"
   ]
  },
  {
   "cell_type": "code",
   "execution_count": 16,
   "metadata": {},
   "outputs": [
    {
     "name": "stdout",
     "output_type": "stream",
     "text": [
      "Analytical gradient: Loss value: 3.107546, grad: \n",
      "[[0.         0.01034393 0.01530054]\n",
      " [0.         0.009994   0.01482641]],\n",
      " [[0.         0.        ]\n",
      " [0.         0.00421839]\n",
      " [0.         0.00771458]]\n",
      "\n",
      "EventProp gradient: Loss value: 3.107546, grad: \n",
      "[[0.         0.01034414 0.01449084]\n",
      " [0.         0.00999416 0.01407043]],\n",
      " [[0.         0.        ]\n",
      " [0.         0.00421822]\n",
      " [0.         0.00771458]]\n"
     ]
    }
   ],
   "source": [
    "params = [WeightInput(np.array([[1.0, 2.0, 3.0], [1.0, 2.0, 3.0]])), WeightInput(np.array([[2.0, 3.0], [2.0, 3.0], [2.0, 3.0]]))]\n",
    "(loss_value, t_spike_output), grad = jax.value_and_grad(partial(loss, partial(forward, trajectory, 6)), has_aux=True)(params, batch)\n",
    "print(f\"Analytical gradient: Loss value: {loss_value:.6f}, grad: \\n{grad[0].input},\\n {grad[1].input}\")\n",
    "\n",
    "(loss_value, t_spike_output), grad = jax.value_and_grad(partial(loss, partial(forward, trajectory_event_prop, 6)), has_aux=True)(params, batch)\n",
    "print(f\"\\nEventProp gradient: Loss value: {loss_value:.6f}, grad: \\n{grad[0].input},\\n {grad[1].input}\")\n"
   ]
  },
  {
   "attachments": {},
   "cell_type": "markdown",
   "metadata": {},
   "source": [
    "We now have implemented EventProp for multiple non-recursive layers and are able to do a training exercise with it."
   ]
  },
  {
   "cell_type": "code",
   "execution_count": 17,
   "metadata": {},
   "outputs": [],
   "source": [
    "from jaxsnn.event.dataset.toy import linear_dataset\n",
    "\n",
    "rng = jax.random.PRNGKey(42)\n",
    "loss_fn = partial(loss, partial(forward, trajectory, 10))\n",
    "\n",
    "n_input = 5\n",
    "n_hidden = 3\n",
    "n_output = 2\n",
    "\n",
    "\n",
    "def update(params, batch):\n",
    "    (loss_value, t_spike_output), grads = jax.value_and_grad(loss_fn, has_aux=True)(params, batch)\n",
    "\n",
    "    # assert not np.any(np.isnan(grads[1].input))\n",
    "    # assert not np.any(np.isnan(grads[0].input))\n",
    "\n",
    "    params = jax.tree_map(lambda f, df: f - 0.1 * df, params, grads)\n",
    "    return params, (loss_value, t_spike_output)\n",
    "\n",
    "\n",
    "def train(params, dataset):\n",
    "    return jax.lax.scan(update, params, dataset)\n",
    "\n",
    "\n",
    "def init_fn(rng, layers):\n",
    "    params = []\n",
    "    for l1, l2 in zip(layers, layers[1: ]):\n",
    "        rng, layer_rng = jax.random.split(rng, 2)\n",
    "        params.append(WeightInput(jax.random.normal(layer_rng, (l1, l2)) + 2.0))\n",
    "    return params\n",
    "\n",
    "\n",
    "params = init_fn(rng, [n_input, n_hidden, n_output])\n",
    "dataset = linear_dataset(rng, p.tau_syn, [200], mirror=True, bias_spike=0.0)[:2]\n",
    "params, values = train(params, dataset)"
   ]
  },
  {
   "cell_type": "code",
   "execution_count": 18,
   "metadata": {},
   "outputs": [
    {
     "data": {
      "text/plain": [
       "DeviceArray(0.84999996, dtype=float32)"
      ]
     },
     "execution_count": 18,
     "metadata": {},
     "output_type": "execute_result"
    }
   ],
   "source": [
    "def test(params, dataset):\n",
    "    loss_value, t_spike_output = jax.vmap(loss_fn, in_axes=(None, 0))(params, dataset)\n",
    "    accuracy = np.argmin(dataset[1], axis=-1) == np.argmin(t_spike_output, axis=-1)\n",
    "    return np.mean(accuracy)\n",
    "\n",
    "test(params, dataset)"
   ]
  },
  {
   "attachments": {},
   "cell_type": "markdown",
   "metadata": {},
   "source": [
    "This shows that we are able to do gradient based learning on event data. We can do train the same topology with an easier description of just one layer. We update the `adjoint_transition_in_layer` function to allow for reccurency."
   ]
  },
  {
   "cell_type": "code",
   "execution_count": 19,
   "metadata": {},
   "outputs": [],
   "source": [
    "def adjoint_transition_with_recurrence_in_layer(\n",
    "    p: LIFParameters,\n",
    "    adjoint_state: StepState,\n",
    "    spike: EventPropSpike,\n",
    "    layer_start: int,\n",
    "    adjoint_spike: EventPropSpike,\n",
    "    grads: WeightRecurrent,\n",
    "    params: WeightRecurrent,\n",
    "    input_queue_head: int,\n",
    "):\n",
    "    index_for_layer = spike.idx - layer_start\n",
    "    epsilon = 1e-6\n",
    "    safe_denominator = np.where(\n",
    "        np.abs(spike.current - p.v_th) > epsilon, spike.current - p.v_th, epsilon\n",
    "    )\n",
    "    new_term = np.dot(params.recurrent[index_for_layer,:], (adjoint_state.neuron_state.V - adjoint_state.neuron_state.I))\n",
    "    adjoint_state.neuron_state.V = adjoint_state.neuron_state.V.at[\n",
    "        index_for_layer\n",
    "    ].add((adjoint_spike.time + new_term )/ safe_denominator)\n",
    "\n",
    "    # also update recurrent grads\n",
    "    grads = WeightRecurrent(grads.input, grads.recurrent.at[index_for_layer].add(-p.tau_syn * adjoint_state.neuron_state.I))\n",
    "    return adjoint_state, grads\n",
    "\n",
    "\n",
    "def adjoint_input_transition(\n",
    "    p: LIFParameters,\n",
    "    adjoint_state: StepState,\n",
    "    spike: EventPropSpike,\n",
    "    layer_start: int,\n",
    "    adjoint_spike: EventPropSpike,\n",
    "    grads: WeightRecurrent,\n",
    "    params: WeightRecurrent,\n",
    "    input_queue_head: int,\n",
    "):\n",
    "    prev_layer_start = layer_start - params.input.shape[0]\n",
    "    index_for_layer = spike.idx - prev_layer_start\n",
    "\n",
    "    grads = WeightRecurrent(\n",
    "        grads.input.at[index_for_layer].add(\n",
    "            -p.tau_syn * adjoint_state.neuron_state.I\n",
    "        ),\n",
    "        grads.recurrent\n",
    "    )\n",
    "    dt = np.dot(\n",
    "        params.input[index_for_layer],\n",
    "        (adjoint_state.neuron_state.V - adjoint_state.neuron_state.I),\n",
    "    )\n",
    "\n",
    "    adjoint_state.input_queue.spikes.time = adjoint_state.input_queue.spikes.time.at[\n",
    "        input_queue_head - 1\n",
    "    ].set(dt)\n",
    "    adjoint_state.input_queue.head += 1\n",
    "    return adjoint_state, grads\n",
    "\n",
    "\n",
    "def adjoint_transition_with_recurrence(\n",
    "    p: LIFParameters,\n",
    "    adjoint_state: StepState,\n",
    "    spike: EventPropSpike,\n",
    "    layer_start: int,\n",
    "    adjoint_spike: EventPropSpike,\n",
    "    grads: WeightRecurrent,\n",
    "    params: WeightRecurrent,\n",
    "    input_queue_head: int,\n",
    "):\n",
    "    spike_in_layer = spike.idx >= layer_start\n",
    "    return lax.cond(\n",
    "        spike_in_layer,\n",
    "        adjoint_transition_with_recurrence_in_layer,\n",
    "        adjoint_input_transition,\n",
    "        *(\n",
    "            p,\n",
    "            adjoint_state,\n",
    "            spike,\n",
    "            layer_start,\n",
    "            adjoint_spike,\n",
    "            grads,\n",
    "            params,\n",
    "            input_queue_head,\n",
    "        ),\n",
    "    )"
   ]
  },
  {
   "cell_type": "code",
   "execution_count": 20,
   "metadata": {},
   "outputs": [],
   "source": [
    "from jaxsnn.event.leaky_integrate_and_fire import transition_with_recurrence\n",
    "from jaxsnn.event.functional import step\n",
    "\n",
    "p = LIFParameters(v_reset = -100.0)\n",
    "\n",
    "tr_dynamics = partial(transition_with_recurrence, p)\n",
    "step_fn = partial(step, dynamics, tr_dynamics, t_max, solver)\n",
    "adjoint_tr_dynamics = partial(adjoint_transition_with_recurrence, p)\n",
    "\n",
    "\n",
    "def step_fn_fwd(input, iteration: int):\n",
    "    ((state, params, layer_start), spike) = step_fn(input, iteration)\n",
    "    return ((state, params, layer_start), spike), (\n",
    "        spike,\n",
    "        params,\n",
    "        layer_start,\n",
    "        state.input_queue.head,\n",
    "    )\n",
    "\n",
    "def step_fn_bwd(res, g):\n",
    "    spike, params, layer_start, input_queue_head = res\n",
    "    (adjoint_state, grads, _), adjoint_spike = g\n",
    "\n",
    "    reversed_time = t_max - spike.time\n",
    "    time_diff = reversed_time - adjoint_state.time\n",
    "\n",
    "    # integrate lambdas to the spike\n",
    "    adjoint_state.neuron_state = adjoint_dynamics(\n",
    "        adjoint_state.neuron_state, time_diff\n",
    "    )\n",
    "    adjoint_state.time = reversed_time\n",
    "\n",
    "    no_event = spike.idx == -1\n",
    "    tr_state, new_grads = lax.cond(\n",
    "        no_event,\n",
    "        lambda *args: (adjoint_state, grads),\n",
    "        adjoint_tr_dynamics,\n",
    "        *(\n",
    "            adjoint_state,\n",
    "            spike,\n",
    "            layer_start,\n",
    "            adjoint_spike,\n",
    "            grads,\n",
    "            params,\n",
    "            input_queue_head,\n",
    "        )\n",
    "    )\n",
    "    return (tr_state, new_grads, layer_start), 1\n",
    "\n",
    "\n",
    "step_event_prop = jax.custom_vjp(step_fn)\n",
    "step_event_prop.defvjp(step_fn_fwd, step_fn_bwd)"
   ]
  },
  {
   "cell_type": "code",
   "execution_count": 21,
   "metadata": {},
   "outputs": [],
   "source": [
    "def forward(apply_fn, n_spikes: int, params: Weight, input_spikes: EventPropSpike, layer_start: int) -> EventPropSpike:\n",
    "    n_neurons = params.input.shape[1]\n",
    "    initial_state = LIFState(np.zeros(n_neurons), np.zeros(n_neurons))\n",
    "    s = StepState(\n",
    "        neuron_state=initial_state, time=0.0, input_queue=InputQueue(input_spikes)\n",
    "    )\n",
    "    _, spikes = lax.scan(apply_fn, (s, params, layer_start), np.arange(n_spikes))\n",
    "    return spikes\n",
    "\n",
    "\n",
    "def loss(apply_fn, n_output, params: WeightRecurrent, batch: tuple):\n",
    "    input_spikes, target = batch\n",
    "    spikes = apply_fn(params, input_spikes, params.input.shape[0])\n",
    "    \n",
    "    # only the last are readout neurons\n",
    "    t_first_spike = first_spike(spikes, params.input.shape[0] + params.input.shape[1])[-n_output:]\n",
    "    return mse_loss(t_first_spike, target, p.tau_mem), (t_first_spike, spikes)"
   ]
  },
  {
   "cell_type": "code",
   "execution_count": 22,
   "metadata": {},
   "outputs": [
    {
     "name": "stdout",
     "output_type": "stream",
     "text": [
      "Analytical gradient: Loss value: 0.059622, grad: \n",
      "[[ 0.          0.00733966  0.00195653 -0.          0.        ]\n",
      " [ 0.          0.00709137  0.00182654 -0.          0.        ]],\n",
      " [[ 0.          0.          0.          0.          0.        ]\n",
      " [ 0.          0.          0.         -0.01532167  0.00734396]\n",
      " [ 0.          0.          0.         -0.02041125  0.01319499]\n",
      " [ 0.          0.          0.          0.          0.        ]\n",
      " [ 0.          0.          0.         -0.          0.        ]]\n",
      "Analytical gradient: Loss value: 0.059622, grad: \n",
      "[[ 0.          0.00733997  0.00195658 -0.          0.        ]\n",
      " [ 0.          0.00709163  0.00182656 -0.          0.        ]],\n",
      " [[ 0.          0.          0.          0.          0.        ]\n",
      " [ 0.          0.          0.         -0.01532158  0.00734354]\n",
      " [ 0.          0.          0.         -0.02041132  0.01319483]\n",
      " [ 0.          0.          0.          0.          0.        ]\n",
      " [ 0.          0.          0.         -0.          0.        ]]\n"
     ]
    }
   ],
   "source": [
    "# same setup as above\n",
    "input =  EventPropSpike(time=np.array([0.0, 1e-4]), idx=np.array([0, 1]), current=np.array([0.0, 0.0]))\n",
    "target = np.array([0.5 * p.tau_syn, 1.0 * p.tau_syn])\n",
    "batch = (input, target)\n",
    "n_spikes = 6\n",
    "\n",
    "n_input = 2\n",
    "n_hidden = 3\n",
    "n_output = 2\n",
    "n_total = n_hidden + n_output\n",
    "\n",
    "# init params\n",
    "first_layer_weights = np.array([[1.0, 2.0, 3.0], [1.0, 2.0, 3.0]])\n",
    "input_weights = np.zeros((2, n_total)).at[:, :n_hidden].set(first_layer_weights)    \n",
    "input_mask = np.where(input_weights != 0.0, 1.0, 0.0)\n",
    "\n",
    "second_layer_weights = np.array([[2.0, 3.0], [2.0, 3.0], [2.0, 3.0]])\n",
    "recurrent_weights = np.zeros((n_total, n_total)).at[:n_hidden, n_hidden:].set(second_layer_weights)\n",
    "recurrent_mask = np.where(recurrent_weights != 0.0, 1.0, 0.0)\n",
    "params = WeightRecurrent(input=input_weights, recurrent=recurrent_weights)\n",
    "\n",
    "loss_fn = partial(loss, partial(forward, step_fn, n_spikes), n_output)\n",
    "(loss_value, (t_first_spike, spikes)), grad = jax.value_and_grad(loss_fn, has_aux=True)(params, batch)\n",
    "print(f\"Analytical gradient: Loss value: {loss_value:.6f}, grad: \\n{grad.input * input_mask},\\n {grad.recurrent * recurrent_mask}\")\n",
    "\n",
    "loss_fn = partial(loss, partial(forward, step_event_prop, n_spikes), n_output)\n",
    "(loss_value, (t_first_spike, spikes)), grad = jax.value_and_grad(loss_fn, has_aux=True)(params, batch)\n",
    "print(f\"Analytical gradient: Loss value: {loss_value:.6f}, grad: \\n{grad.input * input_mask},\\n {grad.recurrent * recurrent_mask}\")\n"
   ]
  },
  {
   "attachments": {},
   "cell_type": "markdown",
   "metadata": {},
   "source": [
    "There seems to be a small difference in the gradient of neuron number 2, which spikes twice, once directly before the "
   ]
  },
  {
   "attachments": {},
   "cell_type": "markdown",
   "metadata": {},
   "source": [
    "We have now implemented the event prop algorithm for one population of arbitrarily connected LIFNeurons. Let's see if we can train on a (simple) task with it."
   ]
  },
  {
   "cell_type": "code",
   "execution_count": 56,
   "metadata": {},
   "outputs": [],
   "source": [
    "def params_and_mask(rng, layers: list[int]):\n",
    "    assert len(layers) >= 2\n",
    "    input_size = layers[0]\n",
    "    hidden_size = np.sum(np.array(layers[1:]))\n",
    "\n",
    "    input_weights = jax.random.normal(rng, (input_size, layers[1])) + 2.0\n",
    "    input_weights = np.zeros((layers[0], hidden_size)).at[:, :layers[1]].set(input_weights)    \n",
    "\n",
    "    recurrent_weights = np.zeros((hidden_size, hidden_size))\n",
    "    l_sum = 0\n",
    "    for l1, l2 in zip(layers[1:], layers[2:]):\n",
    "        rng, layer_rng = jax.random.split(rng)\n",
    "        recurrent_weights = recurrent_weights.at[l_sum:l_sum+l1, l_sum + l1:l_sum+l1+l2].set(jax.random.normal(layer_rng, (l1, l2)) + 2.0)\n",
    "        l_sum += l1\n",
    "\n",
    "    params = WeightRecurrent(input=input_weights, recurrent=recurrent_weights)\n",
    "\n",
    "    # create mask\n",
    "    input_mask = np.where(input_weights != 0.0, 1.0, 0.0)\n",
    "    recurrent_mask = np.where(recurrent_weights != 0.0, 1.0, 0.0)\n",
    "    mask = WeightRecurrent(input=input_mask, recurrent=recurrent_mask)\n",
    "\n",
    "    return params, mask\n",
    "\n",
    "\n",
    "def update(apply_fn, mask, params, batch):\n",
    "    lr = 5e-3\n",
    "    value, grads = jax.value_and_grad(apply_fn, has_aux=True)(params, batch)\n",
    "    grads = jax.tree_map(lambda g, m: g * m / p.tau_syn, grads, mask)\n",
    "\n",
    "    params = jax.tree_map(lambda f, df: f - lr * df, params, grads)\n",
    "    return params, value\n",
    "\n",
    "\n",
    "def train(mask, loss_fn, params, dataset):\n",
    "    update_fn = partial(update, loss_fn, mask)\n",
    "    return jax.lax.scan(update_fn, params, dataset)"
   ]
  },
  {
   "cell_type": "code",
   "execution_count": 59,
   "metadata": {},
   "outputs": [],
   "source": [
    "n_input = 3  # no mirror, but bias spike\n",
    "n_hidden = 10\n",
    "n_output = 2\n",
    "n_spikes = 15\n",
    "\n",
    "rng = jax.random.PRNGKey(42)\n",
    "params, mask = params_and_mask(rng, [n_input, n_hidden, n_output])\n",
    "dataset = linear_dataset(rng, p.tau_syn, [200], mirror=False)[:2]\n",
    "\n",
    "loss_fn = partial(loss, partial(forward, step_fn, n_spikes), n_output)\n",
    "params, (loss_value, (t_first_spike, spikes)) = train(mask, loss_fn, params, dataset)"
   ]
  },
  {
   "cell_type": "code",
   "execution_count": 62,
   "metadata": {},
   "outputs": [
    {
     "data": {
      "image/png": "[encoded data removed]",
      "text/plain": [
       "<Figure size 432x288 with 1 Axes>"
      ]
     },
     "metadata": {
      "needs_background": "light"
     },
     "output_type": "display_data"
    }
   ],
   "source": [
    "plt.plot(np.arange(len(loss_value)), loss_value)\n",
    "plt.show()"
   ]
  },
  {
   "cell_type": "code",
   "execution_count": 63,
   "metadata": {},
   "outputs": [
    {
     "data": {
      "text/plain": [
       "DeviceArray(0.935, dtype=float32)"
      ]
     },
     "execution_count": 63,
     "metadata": {},
     "output_type": "execute_result"
    }
   ],
   "source": [
    "def test(params, dataset):\n",
    "    loss_value, (t_first_spike, spikes) = jax.vmap(loss_fn, in_axes=(None, 0))(params, dataset)\n",
    "    accuracy = np.argmin(dataset[1], axis=-1) == np.argmin(t_first_spike, axis=-1)\n",
    "    return np.mean(accuracy)\n",
    "\n",
    "test(params, dataset)"
   ]
  },
  {
   "attachments": {},
   "cell_type": "markdown",
   "metadata": {},
   "source": [
    "Seems like the training is working well. Todo:\n",
    "\n",
    "* add optax"
   ]
  }
 ],
 "metadata": {
  "kernelspec": {
   "display_name": "Python 3",
   "language": "python",
   "name": "python3"
  },
  "language_info": {
   "codemirror_mode": {
    "name": "ipython",
    "version": 3
   },
   "file_extension": ".py",
   "mimetype": "text/x-python",
   "name": "python",
   "nbconvert_exporter": "python",
   "pygments_lexer": "ipython3",
   "version": "3.10.0"
  },
  "orig_nbformat": 4,
  "vscode": {
   "interpreter": {
    "hash": "56d96b8a86e145020d6ababe354d6afecb59aba273078a8fcdc758efbc4b784a"
   }
  }
 },
 "nbformat": 4,
 "nbformat_minor": 2
}
